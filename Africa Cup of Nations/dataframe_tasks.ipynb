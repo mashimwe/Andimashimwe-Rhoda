{
 "cells": [
  {
   "cell_type": "code",
   "execution_count": 1,
   "id": "d99c877e",
   "metadata": {},
   "outputs": [],
   "source": [
    "import pandas as pd\n",
    "import numpy as np\n",
    "\n",
    "df = pd.read_csv(\"AfricaCupOfNationsMatches.csv\")\n"
   ]
  },
  {
   "cell_type": "code",
   "execution_count": null,
   "id": "7fa46a74",
   "metadata": {},
   "outputs": [],
   "source": [
    "print(df.head(7))\n"
   ]
  },
  {
   "cell_type": "code",
   "execution_count": 3,
   "id": "faab00cb",
   "metadata": {},
   "outputs": [],
   "source": [
    "df_subset = df[['HomeTeam', 'AwayTeam', 'HomeTeamGoals', 'AwayTeamGoals']]\n"
   ]
  },
  {
   "cell_type": "code",
   "execution_count": 4,
   "id": "d42db590",
   "metadata": {},
   "outputs": [],
   "source": [
    "egypt_rows = df[(df['HomeTeam'] == 'Egypt') | (df['AwayTeam'] == 'Egypt')]\n"
   ]
  },
  {
   "cell_type": "code",
   "execution_count": null,
   "id": "a6cd14f2",
   "metadata": {},
   "outputs": [],
   "source": [
    "print(\"Rows and columns:\", df.shape)\n"
   ]
  },
  {
   "cell_type": "code",
   "execution_count": null,
   "id": "ab599020",
   "metadata": {},
   "outputs": [],
   "source": [
    "missing_attendance = df[df['Attendance'].isnull()]\n",
    "print(missing_attendance)"
   ]
  },
  {
   "cell_type": "code",
   "execution_count": null,
   "id": "e43097a7",
   "metadata": {},
   "outputs": [],
   "source": [
    "filtered_df = df[df['HomeTeamGoals'].between(3, 6)]\n",
    "print(filtered_df)"
   ]
  },
  {
   "cell_type": "code",
   "execution_count": null,
   "id": "786d925c",
   "metadata": {},
   "outputs": [],
   "source": [
    "df.at[2, 'AwayTeamGoals'] = 10\n",
    "print(df)"
   ]
  },
  {
   "cell_type": "code",
   "execution_count": null,
   "id": "05882c4d",
   "metadata": {},
   "outputs": [],
   "source": [
    "df_sorted = df.sort_values(by=['HomeTeam', 'HomeTeamGoals'], ascending=[True, False])\n",
    "print(df_sorted)"
   ]
  },
  {
   "cell_type": "code",
   "execution_count": null,
   "id": "dc9576f4",
   "metadata": {},
   "outputs": [],
   "source": [
    "headers = df.columns.tolist()\n",
    "print(headers)"
   ]
  },
  {
   "cell_type": "code",
   "execution_count": null,
   "id": "524fc746",
   "metadata": {},
   "outputs": [],
   "source": [
    "# Convert to numeric, forcing errors to NaN\n",
    "df['HomeTeamGoals'] = pd.to_numeric(df['HomeTeamGoals'], errors='coerce')\n",
    "df['AwayTeamGoals'] = pd.to_numeric(df['AwayTeamGoals'], errors='coerce')\n",
    "\n",
    "df['GoalDifference'] = df['HomeTeamGoals'] - df['AwayTeamGoals']\n",
    "print(df[['HomeTeamGoals', 'AwayTeamGoals', 'GoalDifference']]) \n",
    "print(df)\n"
   ]
  },
  {
   "cell_type": "code",
   "execution_count": null,
   "id": "1a22ea24",
   "metadata": {},
   "outputs": [],
   "source": [
    "new_rows = pd.DataFrame([\n",
    "    {'Year': 2025, 'HomeTeam': 'TeamA', 'AwayTeam': 'TeamB', 'HomeTeamGoals': 1, 'AwayTeamGoals': 2},\n",
    "    {'Year': 2025, 'HomeTeam': 'TeamC', 'AwayTeam': 'TeamD', 'HomeTeamGoals': 3, 'AwayTeamGoals': 3}\n",
    "])\n",
    "df = pd.concat([df, new_rows], ignore_index=True)\n",
    "print(df)\n"
   ]
  },
  {
   "cell_type": "code",
   "execution_count": null,
   "id": "feaa9308",
   "metadata": {},
   "outputs": [],
   "source": [
    "df['AwayTeam'] = df['AwayTeam'].replace('Uganda', 'China')\n"
   ]
  },
  {
   "cell_type": "code",
   "execution_count": null,
   "id": "f6f59d79",
   "metadata": {},
   "outputs": [],
   "source": [
    "df.reset_index(drop=True, inplace=True)\n"
   ]
  },
  {
   "cell_type": "code",
   "execution_count": null,
   "id": "3a870366",
   "metadata": {},
   "outputs": [],
   "source": [
    "print('Stadium' in df.columns)\n"
   ]
  },
  {
   "cell_type": "code",
   "execution_count": null,
   "id": "1174f285",
   "metadata": {},
   "outputs": [],
   "source": [
    "df['AwayTeamGoals'] = df['AwayTeamGoals'].astype(float)\n"
   ]
  },
  {
   "cell_type": "code",
   "execution_count": null,
   "id": "cb6a139e",
   "metadata": {},
   "outputs": [],
   "source": [
    "df = df[:-10]\n"
   ]
  },
  {
   "cell_type": "code",
   "execution_count": null,
   "id": "5a0e6e08",
   "metadata": {},
   "outputs": [],
   "source": [
    "for index, row in df.iterrows():\n",
    "    print(f\"{index}: {row['HomeTeam']} vs {row['AwayTeam']}\")\n"
   ]
  },
  {
   "cell_type": "code",
   "execution_count": null,
   "id": "dbead7e2",
   "metadata": {},
   "outputs": [],
   "source": [
    "df = df[['Year', 'Date', 'Time', 'HomeTeam', 'AwayTeam', 'HomeTeamGoals', 'AwayTeamGoals', 'Stage', 'Stadium', 'City', 'Attendance']]\n"
   ]
  },
  {
   "cell_type": "code",
   "execution_count": null,
   "id": "9c3c9429",
   "metadata": {},
   "outputs": [],
   "source": [
    "df = df[df['HomeTeamGoals'] != 0]\n",
    "print(df)"
   ]
  }
 ],
 "metadata": {
  "kernelspec": {
   "display_name": "base",
   "language": "python",
   "name": "python3"
  },
  "language_info": {
   "codemirror_mode": {
    "name": "ipython",
    "version": 3
   },
   "file_extension": ".py",
   "mimetype": "text/x-python",
   "name": "python",
   "nbconvert_exporter": "python",
   "pygments_lexer": "ipython3",
   "version": "3.12.7"
  }
 },
 "nbformat": 4,
 "nbformat_minor": 5
}
