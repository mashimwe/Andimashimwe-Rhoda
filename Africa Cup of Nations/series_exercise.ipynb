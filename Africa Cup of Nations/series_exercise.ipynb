{
 "cells": [
  {
   "cell_type": "code",
   "execution_count": null,
   "id": "da74920a",
   "metadata": {},
   "outputs": [],
   "source": [
    "# compare elements of two series\n",
    "import pandas as pd\n",
    "\n",
    "s1 = pd.Series([4, 65, 436, 3, 9])\n",
    "s2 = pd.Series([7, 0, 3, 897, 9])\n",
    "\n",
    "print(\"Equals:\\n\", s1 == s2)\n",
    "print(\"Greater than:\\n\", s1 > s2)\n",
    "print(\"Less than:\\n\", s1 < s2)"
   ]
  },
  {
   "cell_type": "code",
   "execution_count": null,
   "id": "a3411b02",
   "metadata": {},
   "outputs": [],
   "source": [
    "# operations\n",
    "s1 = pd.Series([2, 4, 6, 8, 14])\n",
    "s2 = pd.Series([1, 3, 5, 7, 9])\n",
    "\n",
    "print(\"Addition:\\n\", s1 + s2)\n",
    "print(\"Subtraction:\\n\", s1 - s2)\n",
    "print(\"Multiplication:\\n\", s1 * s2)\n",
    "print(\"Division:\\n\", s1 / s2)"
   ]
  },
  {
   "cell_type": "code",
   "execution_count": null,
   "id": "a8b66331",
   "metadata": {},
   "outputs": [],
   "source": [
    "# dictionary to series\n",
    "dictionary1 = {'Josh': 24, 'Sam': 36, 'Peace': 19, 'Charles': 65, 'Tom': 44}\n",
    "series = pd.Series(dictionary1)\n",
    "print(series)"
   ]
  },
  {
   "cell_type": "code",
   "execution_count": null,
   "id": "fe8d33a5",
   "metadata": {},
   "outputs": [],
   "source": [
    "# series to array\n",
    "s = pd.Series(['Love', 800, 'Joy', 789.9, 'Peace', True])\n",
    "print(s.to_numpy())"
   ]
  },
  {
   "cell_type": "code",
   "execution_count": null,
   "id": "1a37033b",
   "metadata": {},
   "outputs": [],
   "source": [
    "# replacing\n",
    "most_frequent = df['HomeTeamGoals'].mode()[0]\n",
    "df['HomeTeamGoals'] = df['HomeTeamGoals'].apply(lambda x: x if x == most_frequent else 'Other')"
   ]
  },
  {
   "cell_type": "code",
   "execution_count": null,
   "id": "088d642d",
   "metadata": {},
   "outputs": [],
   "source": [
    "df = pd.read_csv('AfricaCupOfNationsMatches.csv')\n",
    "# Get the HomeTeamGoals column as a Series\n",
    "home_goals = df['HomeTeamGoals']\n",
    "\n",
    "# Drop missing values to avoid errors (optional)\n",
    "home_goals = home_goals.dropna()\n",
    "\n",
    "# Find the most frequent value\n",
    "most_frequent = home_goals.mode()[0]\n",
    "\n",
    "# Replace everything else with 'Other'\n",
    "home_goals_modified = home_goals.apply(lambda x: x if x == most_frequent else 'Other')\n",
    "\n",
    "print(\"Most frequent goal count:\", most_frequent)\n",
    "print(home_goals_modified)"
   ]
  }
 ],
 "metadata": {
  "kernelspec": {
   "display_name": "base",
   "language": "python",
   "name": "python3"
  },
  "language_info": {
   "codemirror_mode": {
    "name": "ipython",
    "version": 3
   },
   "file_extension": ".py",
   "mimetype": "text/x-python",
   "name": "python",
   "nbconvert_exporter": "python",
   "pygments_lexer": "ipython3",
   "version": "3.12.7"
  }
 },
 "nbformat": 4,
 "nbformat_minor": 5
}
